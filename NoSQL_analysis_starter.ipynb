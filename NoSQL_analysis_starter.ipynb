{
 "cells": [
  {
   "cell_type": "markdown",
   "id": "9a57c4c6",
   "metadata": {},
   "source": [
    "# Eat Safe, Love"
   ]
  },
  {
   "cell_type": "markdown",
   "id": "064ef857",
   "metadata": {},
   "source": [
    "## Notebook Set Up"
   ]
  },
  {
   "cell_type": "code",
   "execution_count": null,
   "id": "3ecdd008",
   "metadata": {},
   "outputs": [],
   "source": [
    "# Import dependencies\n",
    "from pymongo import MongoClient\n",
    "from pprint import pprint"
   ]
  },
  {
   "cell_type": "code",
   "execution_count": null,
   "id": "59390c4a",
   "metadata": {},
   "outputs": [],
   "source": [
    "# Create an instance of MongoClient\n",
    "mongo = MongoClient(port=27017)"
   ]
  },
  {
   "cell_type": "code",
   "execution_count": null,
   "id": "71e373c1",
   "metadata": {},
   "outputs": [],
   "source": [
    "# assign the uk_food database to a variable name\n",
    "db = mongo['uk_food']"
   ]
  },
  {
   "cell_type": "code",
   "execution_count": null,
   "id": "18ab463c",
   "metadata": {},
   "outputs": [],
   "source": [
    "# review the collections in our database\n",
    "db.list_collection_names()"
   ]
  },
  {
   "cell_type": "code",
   "execution_count": null,
   "id": "11c9f11b",
   "metadata": {},
   "outputs": [],
   "source": [
    "# assign the collection to a variable\n",
    "establishments = db['establishments']"
   ]
  },
  {
   "cell_type": "markdown",
   "id": "d5671434",
   "metadata": {},
   "source": [
    "## Part 3: Exploratory Analysis\n",
    "Unless otherwise stated, for each question: \n",
    "* Use `count_documents` to display the number of documents contained in the result.\n",
    "* Display the first document in the results using `pprint`.\n",
    "* Convert the result to a Pandas DataFrame, print the number of rows in the DataFrame, and display the first 10 rows."
   ]
  },
  {
   "cell_type": "markdown",
   "id": "314bd884",
   "metadata": {},
   "source": [
    "### 1. Which establishments have a hygiene score equal to 20?"
   ]
  },
  {
   "cell_type": "code",
   "execution_count": null,
   "id": "c2da7648",
   "metadata": {},
   "outputs": [],
   "source": [
    "# Find the establishments with a hygiene score of 20\n",
    "query = {'scores.Hygiene': 20}\n",
    "fields= {'BusinessName':1, 'scores.Hygiene':1}\n",
    "\n",
    "# Use count_documents to display the number of documents in the result\n",
    "count= establishments.count_documents(query)\n",
    "\n",
    "print(\"Number of documents in result:\", count)\n",
    "print()\n",
    "\n",
    "# Display the first document in the results using pprint\n",
    "pprint(results[0])"
   ]
  },
  {
   "cell_type": "code",
   "execution_count": null,
   "id": "a6e5cece",
   "metadata": {},
   "outputs": [],
   "source": [
    "# Convert the result to a Pandas DataFrame\n",
    "results_df= pd.DataFrame(list(results))\n",
    "\n",
    "# Display the number of rows in the DataFrame\n",
    "print(\"The number of rows are:\", len(results_df))\n",
    "\n",
    "# Display the first 10 rows of the DataFrame\n",
    "results_df.head(10)"
   ]
  },
  {
   "cell_type": "markdown",
   "id": "0ef4395a",
   "metadata": {},
   "source": [
    "### 2. Which establishments in London have a `RatingValue` greater than or equal to 4?"
   ]
  },
  {
   "cell_type": "code",
   "execution_count": null,
   "id": "93c63829",
   "metadata": {},
   "outputs": [],
   "source": [
    "# Find the establishments with London as the Local Authority and has a RatingValue greater than or equal to 4.\n",
    "query = {'LocalAuthorityName': \n",
    "                                {'$regex':'London'},\n",
    "                                                        'RatingValue': {'$gte': 4}}\n",
    "\n",
    "field= {'BusinessName': 1, 'LocalAuthorityName':1, 'RatingValue':1}\n",
    "\n",
    "results= establishments.find(query, field)\n",
    "\n",
    "# Use count_documents to display the number of documents in the result\n",
    "count = establishments.count_documents(query)\n",
    "print(\"Number of documents in result:\", count)\n",
    "print()\n",
    "\n",
    "# Display the first document in the results using pprint\n",
    "pprint(results[0])"
   ]
  },
  {
   "cell_type": "code",
   "execution_count": null,
   "id": "07e24ccb",
   "metadata": {},
   "outputs": [],
   "source": [
    "# Convert the result to a Pandas DataFrame\n",
    "london_df= pd.DataFrame(list(results))\n",
    "\n",
    "# Display the number of rows in the DataFrame\n",
    "print(\"The number of rows are:\", len(london_df))\n",
    "\n",
    "# Display the first 10 rows of the DataFrame\n",
    "london_df.head(10)"
   ]
  },
  {
   "attachments": {},
   "cell_type": "markdown",
   "id": "4e570caf",
   "metadata": {},
   "source": [
    "### 3. What are the top 5 establishments with a `RatingValue` rating value of 5, sorted by lowest hygiene score, nearest to the new restaurant added, \"Penang Flavours\"?"
   ]
  },
  {
   "cell_type": "code",
   "execution_count": null,
   "id": "7f599f3d",
   "metadata": {},
   "outputs": [],
   "source": [
    "# Search within 0.01 degree on either side of the latitude and longitude.\n",
    "# Rating value must equal 5\n",
    "# Sort by hygiene score\n",
    "\n",
    "query_one = {'BusinessName': 'Penang Flavours'}\n",
    "\n",
    "fields = {'BusinessName': 1,'geocode.latitude': 1, 'geocode.longitude': 1}\n",
    "result_one = establishments.find(query_one, fields)\n",
    "\n",
    "degree_search = 0.01\n",
    "latitude = result_one[0]['geocode']['latitude']\n",
    "longitude = result_one[0]['geocode']['longitude']\n",
    "\n",
    "# Find Top 5 \n",
    "query = {'RatingValue': 5,\n",
    "         'geocode.latitude': {'$gte': (latitude - degree_search)},\n",
    "         'geocode.latitude': {'$lte': (latitude + degree_search)},\n",
    "         'geocode.longitude': {'$gte': (longitude - degree_search)},\n",
    "         'geocode.longitude': {'$lte': (longitude + degree_search)},\n",
    "         'scores.Hygiene': {'$ne': None}\n",
    "         }\n",
    "\n",
    "show = {'BusinessName': 1,'RatingValue': 1, 'scores.Hygiene':1, 'geocode.latitude': 1, 'geocode.longitude': 1}\n",
    "\n",
    "sort=[('scores.Hygiene', 1)]\n",
    "\n",
    "limit=5\n",
    "\n",
    "result = establishments.find(query, show).sort(sort).limit(limit)\n",
    "\n",
    "# Print the results\n",
    "# for i in range (5):\n",
    "#     pprint(result[i])\n",
    "\n",
    "BusinessName_list=[]\n",
    "RatingValue_list=[]\n",
    "id_list=[]\n",
    "latitude_list=[]\n",
    "longitude_list=[]\n",
    "hygiene_list=[]\n",
    "\n",
    "for row in result:\n",
    "    pprint(row)\n",
    "    BusinessName= row['BusinessName']\n",
    "    RatingValue= row['RatingValue']\n",
    "    id= row[\"_id\"]\n",
    "    latitude= row['geocode']['latitude']\n",
    "    longitude= row['geocode']['longitude']\n",
    "    hygiene = row ['scores']['Hygiene']\n",
    "    \n",
    "    BusinessName_list.append(BusinessName)\n",
    "    RatingValue_list.append(RatingValue)\n",
    "    id_list.append(id)\n",
    "    latitude_list.append(latitude)\n",
    "    longitude_list.append(longitude)\n",
    "    hygiene_list.append(hygiene)\n"
   ]
  },
  {
   "cell_type": "code",
   "execution_count": null,
   "id": "a6ad16f7",
   "metadata": {},
   "outputs": [],
   "source": [
    "# Convert result to Pandas DataFrame\n",
    "RatingValue_df = pd.DataFrame({\n",
    "    \n",
    " 'Business Name': BusinessName_list,\n",
    " \"Rating Value\" : RatingValue_list,\n",
    "    \"id\": id_list,\n",
    "    \"latitude\" : latitude_list,\n",
    "    \"longitude\" : longitude_list,\n",
    "    \"Hygiene\" : hygiene_list\n",
    "\n",
    "})\n",
    "\n",
    "RatingValue_df.head()"
   ]
  },
  {
   "cell_type": "markdown",
   "id": "67281254",
   "metadata": {},
   "source": [
    "### 4. How many establishments in each Local Authority area have a hygiene score of 0?"
   ]
  },
  {
   "cell_type": "code",
   "execution_count": null,
   "id": "4eeb227e",
   "metadata": {},
   "outputs": [],
   "source": [
    "# Create a pipeline that: \n",
    "# 1. Matches establishments with a hygiene score of 0\n",
    "# 2. Groups the matches by Local Authority\n",
    "# 3. Sorts the matches from highest to lowest\n",
    "pipeline = [\n",
    "        {\"$match\": {\"scores.Hygiene\": 0}},\n",
    "        {\"$group\": {\"_id\": \"$LocalAuthorityName\", \"count\": {\"$sum\": 1}}},\n",
    "         {\"$sort\": {\"count\": -1}}\n",
    "         \n",
    "         ]\n",
    "\n",
    "# Print the number of documents in the result\n",
    "results = list(establishments.aggregate(pipeline))\n",
    "\n",
    "# Print the first 10 results\n",
    "pprint(results[0:10])"
   ]
  },
  {
   "cell_type": "code",
   "execution_count": null,
   "id": "d8aab364",
   "metadata": {},
   "outputs": [],
   "source": [
    "# Convert the result to a Pandas DataFrame\n",
    "result_df= pd.DataFrame(results)\n",
    "\n",
    "# Display the number of rows in the DataFrame\n",
    "print(\"Number of rows in a DataFrame: \", len(result_df))\n",
    "\n",
    "# Display the first 10 rows of the DataFrame\n",
    "result_df.head(10)"
   ]
  }
 ],
 "metadata": {
  "kernelspec": {
   "display_name": "Python 3 (ipykernel)",
   "language": "python",
   "name": "python3"
  },
  "language_info": {
   "codemirror_mode": {
    "name": "ipython",
    "version": 3
   },
   "file_extension": ".py",
   "mimetype": "text/x-python",
   "name": "python",
   "nbconvert_exporter": "python",
   "pygments_lexer": "ipython3",
   "version": "3.10.4"
  }
 },
 "nbformat": 4,
 "nbformat_minor": 5
}
